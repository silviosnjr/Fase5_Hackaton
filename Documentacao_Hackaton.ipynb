{
 "cells": [
  {
   "cell_type": "markdown",
   "metadata": {},
   "source": [
    "# Hackaton | IA para Devs | Fase 5\n",
    "- Silvio Sales do Nascimento Junior (RM 353303)"
   ]
  },
  {
   "cell_type": "markdown",
   "metadata": {},
   "source": [
    "## Documentação do Fluxo de Desenvolvimento da Solução"
   ]
  },
  {
   "cell_type": "code",
   "execution_count": 56,
   "metadata": {},
   "outputs": [],
   "source": [
    "import os\n",
    "import cv2\n",
    "import time\n",
    "import mimetypes\n",
    "import numpy as np\n",
    "from PIL import Image\n",
    "from skimage.metrics import structural_similarity as ssim\n",
    "from ultralytics import YOLO\n",
    "from smtplib import SMTP\n",
    "from email.mime.text import MIMEText\n",
    "from email.mime.multipart import MIMEMultipart\n",
    "from email.mime.image import MIMEImage"
   ]
  },
  {
   "cell_type": "markdown",
   "metadata": {},
   "source": [
    "### Introdução\n",
    "Esta solução foi desenvolvida para processar vídeos e detectar a presença de objetos cortantes, como facas e tesouras, utilizando o modelo YOLOv8. Ao detectar um objeto, a imagem correspondente é capturada e enviada via e-mail para um destinatário predefinido.\n",
    "\n",
    "Observação: Utilizei datasets prontos da plataforma Roboflow contendo 700 objetos com facas e treinei um modelo. \n",
    "\n",
    "### Passo a Passo\n",
    "\n",
    "1. **Carregamento do Modelo**\n",
    "   - O modelo YOLOv8 é carregado para identificar objetos em imagens extraídas de um vídeo.\n",
    "\n",
    "2. **Criação da Pasta para Armazenamento de Frames**\n",
    "   - Criamos uma pasta chamada `frames_detectados` para armazenar os frames que contenham objetos suspeitos.\n",
    "\n",
    "3. **Comparação de Imagens**\n",
    "   - Implementamos a métrica `Structural Similarity Index (SSIM)` para evitar a captura e envio de imagens muito semelhantes.\n",
    "\n",
    "4. **Detecção de Objetos**\n",
    "   - Utilizamos YOLO para verificar se há objetos cortantes nas imagens extraídas.\n",
    "\n",
    "5. **Envio de Alerta por E-mail**\n",
    "   - Caso um objeto cortante seja detectado, um e-mail é enviado com a imagem anexada.\n",
    "\n",
    "6. **Processamento de Vídeo**\n",
    "   - O vídeo é lido frame a frame, aplicando a lógica de detecção e envio de alerta sempre que necessário.\n",
    "\n",
    "### Código Fonte"
   ]
  },
  {
   "cell_type": "code",
   "execution_count": 57,
   "metadata": {},
   "outputs": [],
   "source": [
    "# Carregar modelo treinado\n",
    "yolo_model = YOLO(\"modelo_treinado.pt\")\n",
    "\n",
    "# Criar pasta para armazenar frames detectados\n",
    "output_folder = \"frames_detectados\"\n",
    "os.makedirs(output_folder, exist_ok=True)\n",
    "\n",
    "# Variáveis globais para armazenar o último frame detectado e sua imagem\n",
    "last_detected_image = None  # Matriz NumPy do último frame salvo\n",
    "\n",
    "detection_log = []  # Lista para armazenar registros de detecção"
   ]
  },
  {
   "cell_type": "markdown",
   "metadata": {},
   "source": [
    "#### Função para calcular a similaridade entre dois frames"
   ]
  },
  {
   "cell_type": "code",
   "execution_count": 58,
   "metadata": {},
   "outputs": [],
   "source": [
    "def is_similar(image1, image2, threshold=0.90):\n",
    "    \"\"\"Compara duas imagens e retorna True se forem muito semelhantes.\"\"\"\n",
    "    if image1 is None or image2 is None:\n",
    "        return False  # Primeira imagem, sempre aceitar\n",
    "\n",
    "    # Convertendo imagens para tons de cinza\n",
    "    gray1 = cv2.cvtColor(image1, cv2.COLOR_BGR2GRAY)\n",
    "    gray2 = cv2.cvtColor(image2, cv2.COLOR_BGR2GRAY)\n",
    "\n",
    "    # Redimensionando para garantir tamanhos iguais\n",
    "    gray1 = cv2.resize(gray1, (gray2.shape[1], gray2.shape[0]))\n",
    "\n",
    "    # Calculando a similaridade entre as imagens\n",
    "    score, _ = ssim(gray1, gray2, full=True)\n",
    "    return score >= threshold  # Retorna True se forem muito semelhantes"
   ]
  },
  {
   "cell_type": "markdown",
   "metadata": {},
   "source": [
    "### Função para processar imagem e detectar objetos"
   ]
  },
  {
   "cell_type": "code",
   "execution_count": 59,
   "metadata": {},
   "outputs": [],
   "source": [
    "def detectar_objetos(image_path):\n",
    "    image = Image.open(image_path)\n",
    "    results = yolo_model(image)\n",
    "\n",
    "    for result in results:\n",
    "        for box in result.boxes:\n",
    "            cls = result.names[int(box.cls[0])]\n",
    "            if cls in [\"knife\", \"scissors\"]:  # Ajuste para as classes do dataset\n",
    "                return True  # Objeto cortante detectado\n",
    "    return False"
   ]
  },
  {
   "cell_type": "markdown",
   "metadata": {},
   "source": [
    "#### Função para enviar alerta por e-mail com anexo"
   ]
  },
  {
   "cell_type": "code",
   "execution_count": 60,
   "metadata": {},
   "outputs": [],
   "source": [
    "def enviar_alerta(image_path, tempo):\n",
    "    sender = \"silviosnjr@yahoo.com.br\"\n",
    "    receiver = \"silviosnjr@gmail.com\"\n",
    "    subject = \"Alerta de Segurança: Objeto Cortante Detectado\"\n",
    "    body = f\"Objeto cortante detectado no tempo {tempo:.2f} segundos Veja a imagem em anexo.\"\n",
    "\n",
    "    # Criando e-mail com suporte para anexos\n",
    "    msg = MIMEMultipart()\n",
    "    msg[\"Subject\"] = subject\n",
    "    msg[\"From\"] = sender\n",
    "    msg[\"To\"] = receiver\n",
    "    msg.attach(MIMEText(body, \"plain\"))\n",
    "\n",
    "    # Anexando a imagem\n",
    "    try:\n",
    "        with open(image_path, \"rb\") as img_file:\n",
    "            img_data = img_file.read()\n",
    "            mime_type, _ = mimetypes.guess_type(image_path)\n",
    "            if mime_type is None:\n",
    "                mime_type = \"application/octet-stream\"\n",
    "\n",
    "            main_type, sub_type = mime_type.split(\"/\", 1)\n",
    "            img_attachment = MIMEImage(img_data, _subtype=sub_type)\n",
    "            img_attachment.add_header(\"Content-Disposition\", f\"attachment; filename={os.path.basename(image_path)}\")\n",
    "            msg.attach(img_attachment)\n",
    "    except Exception as e:\n",
    "        print(f\"Erro ao anexar a imagem: {e}\")\n",
    "        return\n",
    "\n",
    "    # Configuração do servidor SMTP do Yahoo\n",
    "    smtp_server = \"smtp.mail.yahoo.com\"\n",
    "    smtp_port = 587  # Usando TLS\n",
    "    email_password = os.getenv(\"SENHA_YAHOO\")  # Obtendo senha do ambiente\n",
    "\n",
    "    try:\n",
    "        with SMTP(smtp_server, smtp_port) as server:\n",
    "            server.starttls()  # Ativa criptografia TLS\n",
    "            server.login(sender, email_password)  # Login com e-mail e senha de app\n",
    "            server.sendmail(sender, receiver, msg.as_string())\n",
    "        print(\"Alerta enviado com sucesso!\")\n",
    "    except Exception as e:\n",
    "        print(\"Erro ao enviar e-mail:\", e)"
   ]
  },
  {
   "cell_type": "markdown",
   "metadata": {},
   "source": [
    "#### Processamento de vídeo gravado"
   ]
  },
  {
   "cell_type": "code",
   "execution_count": null,
   "metadata": {},
   "outputs": [],
   "source": [
    "video_path = \"videos/video2.mp4\"  # Substituir pelo caminho do vídeo\n",
    "cap = cv2.VideoCapture(video_path)\n",
    "\n",
    "frame_rate = cap.get(cv2.CAP_PROP_FPS)  # Obtém a taxa de frames por segundo\n",
    "frame_count = 0\n",
    "\n",
    "while cap.isOpened():\n",
    "    ret, frame = cap.read()\n",
    "    if not ret:\n",
    "        break\n",
    "    \n",
    "    # Armazendo frame\n",
    "    frame_count += 1\n",
    "    timestamp = frame_count / frame_rate  # Calcula o tempo em segundos no vídeo\n",
    "    image_path = os.path.join(output_folder, f\"frame_{int(time.time())}.jpg\")\n",
    "\n",
    "    # Evitar salvar e-mails para frames semelhantes\n",
    "    if last_detected_image is None or not is_similar(last_detected_image, frame, threshold=0.90):\n",
    "        cv2.imwrite(image_path, frame)\n",
    "\n",
    "        if detectar_objetos(image_path):\n",
    "            detection_log.append(f\"Objeto detectado no tempo: {timestamp:.2f} segundos\")\n",
    "            last_detected_image = frame  # Atualiza a última imagem detectada\n",
    "            print(f\"Objeto cortante detectado! Frame salvo em {image_path} - Tempo: {timestamp:.2f}s\")\n",
    "            enviar_alerta(image_path, timestamp)\n",
    "        else:\n",
    "            os.remove(image_path)  # Remove o frame salvo se não houver detecção\n",
    "    else:\n",
    "        print(\"Frame muito semelhante ao anterior, ignorado.\")\n",
    "\n",
    "    cv2.imshow(\"Video\", frame)\n",
    "    if cv2.waitKey(1) & 0xFF == ord('q'):\n",
    "        break\n",
    "\n",
    "cap.release()\n",
    "cv2.destroyAllWindows()"
   ]
  },
  {
   "cell_type": "markdown",
   "metadata": {},
   "source": [
    "#### Criar relatório de detecção"
   ]
  },
  {
   "cell_type": "code",
   "execution_count": null,
   "metadata": {},
   "outputs": [],
   "source": [
    "report_path = \"relatorio/relatorio_deteccao.txt\"\n",
    "with open(report_path, \"w\") as report_file:\n",
    "    report_file.write(\"Relatorio de Deteccao de Objetos Cortantes\\n\")\n",
    "    report_file.write(\"=\" * 50 + \"\\n\")\n",
    "    report_file.write(\"\\n\".join(detection_log))\n",
    "\n",
    "print(f\"Relatorio salvo em {report_path}\")"
   ]
  },
  {
   "cell_type": "markdown",
   "metadata": {},
   "source": [
    "### Conclusão\n",
    "Este notebook apresenta uma solução eficiente para detecção de objetos cortantes em vídeos. O modelo YOLOv8 é utilizado para identificar facas e tesouras, enquanto um mecanismo de comparação evita redundâncias. O envio de alertas por e-mail garante uma resposta rápida a eventos suspeitos."
   ]
  }
 ],
 "metadata": {
  "kernelspec": {
   "display_name": "Python 3",
   "language": "python",
   "name": "python3"
  },
  "language_info": {
   "codemirror_mode": {
    "name": "ipython",
    "version": 3
   },
   "file_extension": ".py",
   "mimetype": "text/x-python",
   "name": "python",
   "nbconvert_exporter": "python",
   "pygments_lexer": "ipython3",
   "version": "3.12.2"
  }
 },
 "nbformat": 4,
 "nbformat_minor": 2
}
